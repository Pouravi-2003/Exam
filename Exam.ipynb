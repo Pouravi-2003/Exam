{
 "cells": [
  {
   "cell_type": "code",
   "execution_count": 5,
   "id": "cdaadb70-6ee7-4df0-bb15-8ed191cd409a",
   "metadata": {},
   "outputs": [],
   "source": [
    "l=[1,2,3,4,5,6,7,8,9,10]\n",
    "l1=[]\n",
    "for i in l:\n",
    "    if i%2==0:\n",
    "        l1.append(i)"
   ]
  },
  {
   "cell_type": "code",
   "execution_count": 6,
   "id": "03bff87b-8184-4d66-9adf-c220fb880507",
   "metadata": {},
   "outputs": [
    {
     "data": {
      "text/plain": [
       "[2, 4, 6, 8, 10]"
      ]
     },
     "execution_count": 6,
     "metadata": {},
     "output_type": "execute_result"
    }
   ],
   "source": [
    "l1"
   ]
  },
  {
   "cell_type": "code",
   "execution_count": 11,
   "id": "78b77abb-54c7-48a6-b6a2-1f4eec1046a9",
   "metadata": {},
   "outputs": [
    {
     "name": "stdout",
     "output_type": "stream",
     "text": [
      "mean: 20.0\n"
     ]
    }
   ],
   "source": [
    "def calculation_mean(numbers):\n",
    "    total=sum(numbers)\n",
    "    count=len(numbers)\n",
    "    mean=total/count\n",
    "    return mean\n",
    "data=[10,15,20,25,30]\n",
    "##mean_value\n",
    "ans=calculation_mean(data)\n",
    "print(\"mean:\",ans)"
   ]
  },
  {
   "cell_type": "code",
   "execution_count": 14,
   "id": "21e3a0ec-7421-4489-b030-1d2b4a41bfba",
   "metadata": {},
   "outputs": [
    {
     "name": "stdout",
     "output_type": "stream",
     "text": [
      "p_value (0.09434977284243756, -1.8973665961010275)\n",
      "t_statistic (0.09434977284243756, -1.8973665961010275)\n"
     ]
    }
   ],
   "source": [
    "from scipy import stats\n",
    "def perfrom_hypothesis_test(sample1,sample2):\n",
    "    t_statistic,p_value=stats.ttest_ind(sample1,sample2)\n",
    "    return p_value,t_statistic\n",
    "sample1=[5,10,15,20,25]\n",
    "sample2=[10,20,30,40,50]\n",
    "p_value=perfrom_hypothesis_test(sample1,sample2)\n",
    "t_statistic=perfrom_hypothesis_test(sample1,sample2)\n",
    "print(\"p_value\",p_value)\n",
    "print(\"t_statistic\",t_statistic)"
   ]
  },
  {
   "cell_type": "code",
   "execution_count": 22,
   "id": "e9974b0b-ef48-4212-bcf6-75695ad50ff8",
   "metadata": {},
   "outputs": [
    {
     "ename": "SyntaxError",
     "evalue": "invalid syntax (3925042353.py, line 8)",
     "output_type": "error",
     "traceback": [
      "\u001b[0;36m  Cell \u001b[0;32mIn [22], line 8\u001b[0;36m\u001b[0m\n\u001b[0;31m    my_function()\u001b[0m\n\u001b[0m    ^\u001b[0m\n\u001b[0;31mSyntaxError\u001b[0m\u001b[0;31m:\u001b[0m invalid syntax\n"
     ]
    }
   ],
   "source": [
    "import time \n",
    "def my_function():\n",
    "    start=time.time\n",
    "    end=time.time\n",
    "    time.sleep(2)\n",
    "\n",
    "@time\n",
    "my_function()\n",
    "    print(4+5)"
   ]
  },
  {
   "cell_type": "code",
   "execution_count": null,
   "id": "05f8115a-161d-4632-bfb0-a61f4ab11312",
   "metadata": {},
   "outputs": [],
   "source": []
  }
 ],
 "metadata": {
  "kernelspec": {
   "display_name": "Python 3 (ipykernel)",
   "language": "python",
   "name": "python3"
  },
  "language_info": {
   "codemirror_mode": {
    "name": "ipython",
    "version": 3
   },
   "file_extension": ".py",
   "mimetype": "text/x-python",
   "name": "python",
   "nbconvert_exporter": "python",
   "pygments_lexer": "ipython3",
   "version": "3.10.6"
  }
 },
 "nbformat": 4,
 "nbformat_minor": 5
}
